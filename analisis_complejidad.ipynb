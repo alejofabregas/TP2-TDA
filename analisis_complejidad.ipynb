{
 "cells": [
  {
   "cell_type": "markdown",
   "metadata": {},
   "source": [
    "# Análisis de complejidad de ganar_siempre\n",
    "\n",
    "A continuación se realizará un análisis por el método de cuadrados mínimos para verificar que la función ganar_siempre efectivamente es $O(n)$.\n",
    "\n",
    "Esta función toma como parámetro un arreglo de n números (que representan monedas), por lo que podemos crear arreglos de distinto tamaño para corroborar empíricamente que la complejidad es $O(n)$.\n",
    "\n",
    "Correremos estas simulaciones para obtener los tiempos de ejecución de la función para distintas entradas, y luego haremos un ajuste por cuadrados mínimos para ver si nos alejamos de una tendencia lineal. Si el error es bajo, significa que la función es de complejidad lineal."
   ]
  },
  {
   "cell_type": "markdown",
   "metadata": {},
   "source": [
    "## Imports"
   ]
  },
  {
   "cell_type": "code",
   "execution_count": 22,
   "metadata": {},
   "outputs": [],
   "source": [
    "# Importamos la función a testear\n",
    "from main import ganar_siempre\n",
    "\n",
    "# Imports necesarios para el notebook:\n",
    "\n",
    "# Seed de aleatoriedad\n",
    "from random import seed\n",
    "\n",
    "# Matplotlib y Seaborn para graficar, numpy y scipy para cálculos\n",
    "from matplotlib import pyplot as plt\n",
    "import seaborn as sns\n",
    "import numpy as np\n",
    "import scipy as sp\n",
    "\n",
    "# Importamos la función para calcular los tiempos de ejecución\n",
    "from analisis_complejidad_util import time_algorithm\n",
    "\n",
    "# Siempre seteamos la seed de aleatoriedad para que los # resultados sean reproducibles\n",
    "seed(237)\n",
    "np.random.seed(237)\n",
    "\n",
    "sns.set_theme()"
   ]
  },
  {
   "cell_type": "markdown",
   "metadata": {},
   "source": [
    "## Dataset de prueba\n",
    "\n",
    "Generaremos un dataset variado para probar a nuestra función. "
   ]
  },
  {
   "cell_type": "code",
   "execution_count": 38,
   "metadata": {},
   "outputs": [],
   "source": [
    "# Función para obtener un array de largo n con elementos random entre 0 y 1000\n",
    "def get_random_array(size: int):\n",
    "    return np.random.randint(0, 1000, size)\n",
    "\n",
    "# La variable x van a ser los valores del eje x de los gráficos en todo el notebook\n",
    "# Tamaño mínimo=100, tamaño máximo=10kk, cantidad de puntos=20\n",
    "# Representa los tamaños de la entrada, es decir el largo de los arrays de monedas\n",
    "x = np.linspace(100, 10_000_000, 20).astype(int)\n",
    "\n",
    "# Usamos la función time_algorithm de utils que prueba la función para las distintas entradas\n",
    "# Devuelve el tiempo que tarda para cada tamaño de entrada\n",
    "results = time_algorithm(ganar_siempre, x, lambda s: [get_random_array(s)])"
   ]
  },
  {
   "cell_type": "markdown",
   "metadata": {},
   "source": [
    "## Gráfico de tiempo en función de la entrada\n",
    "\n",
    "Graficamos el tiempo de ejecución de ganar_siempre en función al tamaño de la entrada que probamos anteriormente. Podemos ver que para 5.000.000 de elementos tarda aproximadamente 1,2 segundos, y que para 10.000.000 de elementos tarda aproximadamente 2.5 segundos, lo que nos estaría indicando que el algoritmo es lineal."
   ]
  },
  {
   "cell_type": "code",
   "execution_count": null,
   "metadata": {},
   "outputs": [],
   "source": [
    "ax: plt.Axes\n",
    "fig, ax = plt.subplots()\n",
    "ax.plot(x, [results[i] for i in x], label=\"Medición\")\n",
    "ax.set_title('Tiempo de ejecución de ganar_siempre')\n",
    "ax.set_xlabel('Tamaño del array')\n",
    "ax.set_ylabel('Tiempo de ejecución (s)')\n",
    "None"
   ]
  },
  {
   "cell_type": "markdown",
   "metadata": {},
   "source": [
    "## Ajuste por cuadrados mínimos\n",
    "\n",
    "Ahora vamos a ajustar por cuadrados mínimos a los resultados que obtenimos de los tiempos de ejecución de nuestra función. En nuestro caso vamos a ajustar contra la siguiente recta:\n",
    "$$\n",
    "y = c_1 x + c_2\n",
    "$$\n",
    "\n",
    "Podemos ver que el error es bajo, por lo que ajusta muy bien a la recta."
   ]
  },
  {
   "cell_type": "code",
   "execution_count": null,
   "metadata": {},
   "outputs": [],
   "source": [
    "# Ajuste para la complejidad O(n)\n",
    "f = lambda x, c1, c2: c1 * x + c2 \n",
    "\n",
    "# Función de scipy que ajusta a la curva f que le pasamos como parámetro\n",
    "c, pcov = sp.optimize.curve_fit(f, x, [results[n] for n in x])\n",
    "\n",
    "# Mostramos los resultados del ajuste\n",
    "print(f\"Valores de la pendiente y la ordenada al orígen: \\n\\tc_1 = {c[0]}, c_2 = {c[1]}\")\n",
    "\n",
    "# Obtenemos el error cuadrático total\n",
    "r = np.sum((c[0] * x + c[1] - [results[n] for n in x])**2)\n",
    "print(f\"Error cuadrático total: \\n\\t{r}\")"
   ]
  },
  {
   "cell_type": "markdown",
   "metadata": {},
   "source": [
    "## Gráfico de nuestros datos y el ajuste\n",
    "\n",
    "Se observa que los datos ajustan muy bien contra la recta."
   ]
  },
  {
   "cell_type": "code",
   "execution_count": null,
   "metadata": {},
   "outputs": [],
   "source": [
    "ax.plot(x, [c[0] * n + c[1] for n in x], 'r--', label=\"Ajuste O(n)\")\n",
    "ax.legend()\n",
    "fig"
   ]
  },
  {
   "cell_type": "markdown",
   "metadata": {},
   "source": [
    "## Error de ajuste en función del tamaño de la entrada\n",
    "\n",
    "En este gráfico se observa que el error de ajuste según el tamaño de la entrada es muy bajo en todos los casos, y es parejo a lo largo de todos los tamaños. Esto es otro indicio de que el algoritmo es lineal."
   ]
  },
  {
   "cell_type": "code",
   "execution_count": null,
   "metadata": {},
   "outputs": [],
   "source": [
    "ax: plt.Axes\n",
    "fig, ax = plt.subplots()\n",
    "errors = [np.abs(c[0] * n + c[1] - results[n]) for n in x]\n",
    "ax.plot(x, errors)\n",
    "ax.set_title('Error de ajuste')\n",
    "ax.set_xlabel('Tamaño del array')\n",
    "ax.set_ylabel('Error absoluto (s)')\n",
    "None"
   ]
  },
  {
   "cell_type": "markdown",
   "metadata": {},
   "source": [
    "## Análisis de la variablidad\n",
    "\n",
    "Vamos a repetir nuestro análisis pero cambiando el dataset. Utilizaremos números que varíen primero entre 0 y 10.000.000 aleatoriamente, y luego entre 0 y 0.1, para ver si cambiando la variabilidad de los datos cambia la complejidad del algoritmo."
   ]
  },
  {
   "cell_type": "markdown",
   "metadata": {},
   "source": [
    "### Alta variabilidad"
   ]
  },
  {
   "cell_type": "code",
   "execution_count": 28,
   "metadata": {},
   "outputs": [],
   "source": [
    "# Función para obtener un array de largo n con elementos random entre 0 y 1000\n",
    "def get_random_array(size: int):\n",
    "    return np.random.randint(0, 10_000_000, size)\n",
    "\n",
    "# La variable x van a ser los valores del eje x de los gráficos en todo el notebook\n",
    "# Tamaño mínimo=100, tamaño máximo=10kk, cantidad de puntos=20\n",
    "# Representa los tamaños de la entrada, es decir el largo de los arrays de monedas\n",
    "x = np.linspace(100, 10_000_000, 20).astype(int)\n",
    "\n",
    "# Usamos la función time_algorithm de utils que prueba la función para las distintas entradas\n",
    "# Devuelve el tiempo que tarda para cada tamaño de entrada\n",
    "results = time_algorithm(ganar_siempre, x, lambda s: [get_random_array(s)])"
   ]
  },
  {
   "cell_type": "code",
   "execution_count": null,
   "metadata": {},
   "outputs": [],
   "source": [
    "ax: plt.Axes\n",
    "fig, ax = plt.subplots()\n",
    "ax.plot(x, [results[i] for i in x], label=\"Medición\")\n",
    "ax.set_title('Tiempo de ejecución de ganar_siempre (alta variabilidad)')\n",
    "ax.set_xlabel('Tamaño del array')\n",
    "ax.set_ylabel('Tiempo de ejecución (s)')\n",
    "None"
   ]
  },
  {
   "cell_type": "code",
   "execution_count": null,
   "metadata": {},
   "outputs": [],
   "source": [
    "# Ajuste para la complejidad O(n)\n",
    "f = lambda x, c1, c2: c1 * x + c2 \n",
    "\n",
    "# Función de scipy que ajusta a la curva f que le pasamos como parámetro\n",
    "c, pcov = sp.optimize.curve_fit(f, x, [results[n] for n in x])\n",
    "\n",
    "# Mostramos los resultados del ajuste\n",
    "print(f\"Valores de la pendiente y la ordenada al orígen: \\n\\tc_1 = {c[0]}, c_2 = {c[1]}\")\n",
    "\n",
    "# Obtenemos el error cuadrático total\n",
    "r = np.sum((c[0] * x + c[1] - [results[n] for n in x])**2)\n",
    "print(f\"Error cuadrático total: \\n\\t{r}\")"
   ]
  },
  {
   "cell_type": "code",
   "execution_count": null,
   "metadata": {},
   "outputs": [],
   "source": [
    "ax.plot(x, [c[0] * n + c[1] for n in x], 'r--', label=\"Ajuste O(n)\")\n",
    "ax.legend()\n",
    "fig"
   ]
  },
  {
   "cell_type": "code",
   "execution_count": null,
   "metadata": {},
   "outputs": [],
   "source": [
    "ax: plt.Axes\n",
    "fig, ax = plt.subplots()\n",
    "errors = [np.abs(c[0] * n + c[1] - results[n]) for n in x]\n",
    "ax.plot(x, errors)\n",
    "ax.set_title('Error de ajuste')\n",
    "ax.set_xlabel('Tamaño del array')\n",
    "ax.set_ylabel('Error absoluto (s)')\n",
    "None"
   ]
  },
  {
   "cell_type": "markdown",
   "metadata": {},
   "source": [
    "### Baja variabilidad"
   ]
  },
  {
   "cell_type": "code",
   "execution_count": 33,
   "metadata": {},
   "outputs": [],
   "source": [
    "# Función para obtener un array de largo n con elementos random entre 0 y 1000\n",
    "def get_random_array(size: int):\n",
    "    return np.random.randint(0, 10, size)\n",
    "\n",
    "# La variable x van a ser los valores del eje x de los gráficos en todo el notebook\n",
    "# Tamaño mínimo=100, tamaño máximo=10kk, cantidad de puntos=20\n",
    "# Representa los tamaños de la entrada, es decir el largo de los arrays de monedas\n",
    "x = np.linspace(100, 10_000_000, 20).astype(int)\n",
    "\n",
    "# Usamos la función time_algorithm de utils que prueba la función para las distintas entradas\n",
    "# Devuelve el tiempo que tarda para cada tamaño de entrada\n",
    "results = time_algorithm(ganar_siempre, x, lambda s: [get_random_array(s)])"
   ]
  },
  {
   "cell_type": "code",
   "execution_count": null,
   "metadata": {},
   "outputs": [],
   "source": [
    "ax: plt.Axes\n",
    "fig, ax = plt.subplots()\n",
    "ax.plot(x, [results[i] for i in x], label=\"Medición\")\n",
    "ax.set_title('Tiempo de ejecución de ganar_siempre (baja variabilidad)')\n",
    "ax.set_xlabel('Tamaño del array')\n",
    "ax.set_ylabel('Tiempo de ejecución (s)')\n",
    "None"
   ]
  },
  {
   "cell_type": "code",
   "execution_count": null,
   "metadata": {},
   "outputs": [],
   "source": [
    "# Ajuste para la complejidad O(n)\n",
    "f = lambda x, c1, c2: c1 * x + c2 \n",
    "\n",
    "# Función de scipy que ajusta a la curva f que le pasamos como parámetro\n",
    "c, pcov = sp.optimize.curve_fit(f, x, [results[n] for n in x])\n",
    "\n",
    "# Mostramos los resultados del ajuste\n",
    "print(f\"Valores de la pendiente y la ordenada al orígen: \\n\\tc_1 = {c[0]}, c_2 = {c[1]}\")\n",
    "\n",
    "# Obtenemos el error cuadrático total\n",
    "r = np.sum((c[0] * x + c[1] - [results[n] for n in x])**2)\n",
    "print(f\"Error cuadrático total: \\n\\t{r}\")"
   ]
  },
  {
   "cell_type": "code",
   "execution_count": null,
   "metadata": {},
   "outputs": [],
   "source": [
    "ax.plot(x, [c[0] * n + c[1] for n in x], 'r--', label=\"Ajuste O(n)\")\n",
    "ax.legend()\n",
    "fig"
   ]
  },
  {
   "cell_type": "code",
   "execution_count": null,
   "metadata": {},
   "outputs": [],
   "source": [
    "ax: plt.Axes\n",
    "fig, ax = plt.subplots()\n",
    "errors = [np.abs(c[0] * n + c[1] - results[n]) for n in x]\n",
    "ax.plot(x, errors)\n",
    "ax.set_title('Error de ajuste')\n",
    "ax.set_xlabel('Tamaño del array')\n",
    "ax.set_ylabel('Error absoluto (s)')\n",
    "None"
   ]
  }
 ],
 "metadata": {
  "kernelspec": {
   "display_name": "Python 3",
   "language": "python",
   "name": "python3"
  },
  "language_info": {
   "codemirror_mode": {
    "name": "ipython",
    "version": 3
   },
   "file_extension": ".py",
   "mimetype": "text/x-python",
   "name": "python",
   "nbconvert_exporter": "python",
   "pygments_lexer": "ipython3",
   "version": "3.12.5"
  }
 },
 "nbformat": 4,
 "nbformat_minor": 2
}
